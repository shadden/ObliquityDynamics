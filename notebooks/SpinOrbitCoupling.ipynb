{
 "cells": [
  {
   "cell_type": "code",
   "execution_count": 1,
   "id": "2c0cbff8",
   "metadata": {},
   "outputs": [],
   "source": [
    "import celmech as cm\n",
    "import numpy as np\n",
    "import rebound as rb\n",
    "import sympy as sp"
   ]
  },
  {
   "cell_type": "code",
   "execution_count": 2,
   "id": "2ffe0f10",
   "metadata": {},
   "outputs": [],
   "source": [
    "from celmech.miscellaneous import truncated_expansion"
   ]
  },
  {
   "cell_type": "markdown",
   "id": "41befbd8",
   "metadata": {},
   "source": [
    "Define the inertia tensor with coordinates in the body principal axes frame"
   ]
  },
  {
   "cell_type": "code",
   "execution_count": 3,
   "id": "a7f66ab0",
   "metadata": {},
   "outputs": [
    {
     "data": {
      "text/latex": [
       "$\\displaystyle \\left[\\begin{matrix}\\frac{C}{\\delta + 1} & 0 & 0\\\\0 & \\frac{C}{1 - \\delta} & 0\\\\0 & 0 & \\frac{C}{1 - \\epsilon}\\end{matrix}\\right]$"
      ],
      "text/plain": [
       "⎡  C                ⎤\n",
       "⎢─────    0      0  ⎥\n",
       "⎢δ + 1              ⎥\n",
       "⎢                   ⎥\n",
       "⎢         C         ⎥\n",
       "⎢  0    ─────    0  ⎥\n",
       "⎢       1 - δ       ⎥\n",
       "⎢                   ⎥\n",
       "⎢                C  ⎥\n",
       "⎢  0      0    ─────⎥\n",
       "⎣              1 - ε⎦"
      ]
     },
     "execution_count": 3,
     "metadata": {},
     "output_type": "execute_result"
    }
   ],
   "source": [
    "# intertia tensor\n",
    "delta,epsilon,C = sp.symbols(\"delta,epsilon,C\")\n",
    "A = C/(1+delta)\n",
    "B = C/(1-delta)\n",
    "C1 = C/(1-epsilon)\n",
    "body_frame_intertia_tensor = sp.diag(A,B,C1)\n",
    "\n",
    "body_frame_intertia_tensor"
   ]
  },
  {
   "cell_type": "markdown",
   "id": "b79c7ec6",
   "metadata": {},
   "source": [
    "Define the free body Hamiltonian in terms of Andoyer variables "
   ]
  },
  {
   "cell_type": "code",
   "execution_count": 4,
   "id": "b2d26479",
   "metadata": {},
   "outputs": [
    {
     "data": {
      "text/latex": [
       "$\\displaystyle \\frac{\\Lambda^{2} \\delta \\cos{\\left(2 l \\right)} - \\Lambda^{2} \\epsilon - S^{2} \\delta \\cos{\\left(2 l \\right)} + S^{2}}{2 C}$"
      ],
      "text/plain": [
       " 2               2      2               2\n",
       "Λ ⋅δ⋅cos(2⋅l) - Λ ⋅ε - S ⋅δ⋅cos(2⋅l) + S \n",
       "─────────────────────────────────────────\n",
       "                   2⋅C                   "
      ]
     },
     "execution_count": 4,
     "metadata": {},
     "output_type": "execute_result"
    }
   ],
   "source": [
    "# Andoyer variables\n",
    "SZ,S,Lmbda = sp.symbols(\"S_z,S,Lambda\",positive=True)\n",
    "h,g,l = sp.symbols(\"h,g,l\",real=True)\n",
    "\n",
    "from sympy import sin,cos,acos\n",
    "\n",
    "# Hamiltonian of torque-free rigid body in Andoyer variables\n",
    "Hfree = Lmbda * Lmbda / (2 * C1) \n",
    "Hfree += (sin(l)**2/A + cos(l)**2/B)/2 * (S*S - Lmbda*Lmbda)\n",
    "\n",
    "# some functions for performing specific simplifications of trig functions\n",
    "from sympy.simplify.fu import TR8,TR10,TR10i,TR11\n",
    "\n",
    "Hfree = sp.simplify(TR8(Hfree))\n",
    "\n",
    "Hfree"
   ]
  },
  {
   "cell_type": "markdown",
   "id": "e0d7e111",
   "metadata": {},
   "source": [
    "Deine rotation matrices"
   ]
  },
  {
   "cell_type": "code",
   "execution_count": 5,
   "id": "955e30f8",
   "metadata": {},
   "outputs": [],
   "source": [
    "def R1(x):\n",
    "    s,c = sin(x),cos(x)\n",
    "    R=sp.Matrix([[1,0,0],[0,c,-s],[0,s,c]])\n",
    "    return R\n",
    "def R3(x):\n",
    "    s,c = sin(x),cos(x)\n",
    "    R=sp.Matrix([[c,-s,0],[s,c,0],[0,0,1]])\n",
    "    return R\n",
    "def R313(alpha,beta,gamma):\n",
    "    return R3(alpha)*R1(beta)*R3(gamma)\n",
    "\n",
    "# Rotation matrices in terms of complex variables; \n",
    "#  (not currently used)\n",
    "def R1complex(z,zbar):\n",
    "    c = (z+zbar)/2\n",
    "    s = (z-zbar)/2/sp.I\n",
    "    R=sp.Matrix([[1,0,0],[0,c,-s],[0,s,c]])\n",
    "    return R\n",
    "def R3complex(z,zbar):\n",
    "    c = (z+zbar)/2\n",
    "    s = (z-zbar)/2/sp.I\n",
    "    R=sp.Matrix([[c,-s,0],[s,c,0],[0,0,1]])\n",
    "    return R\n",
    "def R313complex(alpha,alphabar,beta,betabar,gamma,gammabar):\n",
    "    return R3complex(alpha,alphabar)*R1complex(beta,betabar)*R3complex(gamma,gammabar)"
   ]
  },
  {
   "cell_type": "markdown",
   "id": "cf3cf1bf",
   "metadata": {},
   "source": [
    "Transformation from body and orbit frames to inertial reference frame. \n",
    "The components of $\\mathsf{I}$ in the inertial frame are given by\n",
    "\n",
    "$$\n",
    "\\begin{equation}\n",
    "    I_{ij} = A_{il}A_{jm}[\\mathrm{diag}(A,B,C)]_{lm} = A\\cdot\\mathrm{diag}(A,B,C)\\cdot A^{T}~.\\label{eq:I_inertial}\n",
    "\\end{equation}\n",
    "$$\n",
    "\n",
    "where $A = R_{3,1,3}(h,i,0) \\cdot R_{3,1,3}(g,J,\\ell)$.\n",
    "\n",
    "\n",
    "The position vector of the planet is given by \n",
    "$$\n",
    "\\begin{equation}\n",
    "r = a B \\cdot \\begin{pmatrix} \\cos E - e \\\\ \\sqrt{1-e^2}\\sin E \\\\  0 \\end{pmatrix}\n",
    "\\end{equation}\n",
    "$$\n",
    "with $B = R_{3,1,3}(\\Omega, \\arccos\\vartheta,\\omega)$"
   ]
  },
  {
   "cell_type": "code",
   "execution_count": 7,
   "id": "e10a59ac",
   "metadata": {},
   "outputs": [],
   "source": [
    "i = acos(SZ/S)\n",
    "J = acos(Lmbda/S)\n",
    "\n",
    "Amtrx = R313(h,i,0) * R313(g,J,l)\n",
    "a,e =  sp.symbols(\"a,e\",positive= True)\n",
    "E,M,omega,Omega = sp.symbols(\"E,M,omega,Omega\", real = True)\n",
    "r_vec_orbit_frame = a * sp.Matrix([cos(E) - e, sp.sqrt(1-e*e)*sin(E),0])\n",
    "\n",
    "vtheta = sp.symbols(\"vartheta\", positive = True)\n",
    "Bmtrx = R313(Omega,sp.acos(vtheta),omega)\n",
    "r_vec_ref_frame = Bmtrx * r_vec_orbit_frame\n"
   ]
  },
  {
   "cell_type": "code",
   "execution_count": 8,
   "id": "3f27c154",
   "metadata": {},
   "outputs": [],
   "source": [
    "Amtrx = R313(h,i,0) * R313(g,J,l)\n",
    "# For principal axis rotation Lambda = S\n",
    "Amtrx_PAR = R313(h,i,0) * R313(0,0,l) "
   ]
  },
  {
   "cell_type": "code",
   "execution_count": 9,
   "id": "8264efa3",
   "metadata": {},
   "outputs": [],
   "source": [
    "ref_frame_intertia_tensor = Amtrx_PAR * body_frame_intertia_tensor * Amtrx_PAR.transpose()"
   ]
  },
  {
   "cell_type": "code",
   "execution_count": 10,
   "id": "5c574017",
   "metadata": {},
   "outputs": [],
   "source": [
    "spin_av = lambda exprn: sp.integrate(exprn,(l,0,2*sp.pi))/(2*sp.pi)"
   ]
  },
  {
   "cell_type": "code",
   "execution_count": 11,
   "id": "dc82e613",
   "metadata": {},
   "outputs": [],
   "source": [
    "ref_frame_intertia_tensor_av = spin_av(ref_frame_intertia_tensor)"
   ]
  },
  {
   "cell_type": "code",
   "execution_count": 12,
   "id": "8f9d466d",
   "metadata": {},
   "outputs": [
    {
     "data": {
      "text/latex": [
       "$\\displaystyle \\left[\\begin{matrix}a \\cos{\\left(E \\right)}\\\\a \\sin{\\left(E \\right)}\\\\0\\end{matrix}\\right]$"
      ],
      "text/plain": [
       "⎡a⋅cos(E)⎤\n",
       "⎢        ⎥\n",
       "⎢a⋅sin(E)⎥\n",
       "⎢        ⎥\n",
       "⎣   0    ⎦"
      ]
     },
     "execution_count": 12,
     "metadata": {},
     "output_type": "execute_result"
    }
   ],
   "source": [
    "r_vec_orbit_circ = r_vec_orbit_frame.xreplace({e:0})\n",
    "r_vec_orbit_circ"
   ]
  },
  {
   "cell_type": "code",
   "execution_count": 13,
   "id": "4af3c4be",
   "metadata": {},
   "outputs": [],
   "source": [
    "r_vec_ref_frame_circular =  sp.simplify(Bmtrx * r_vec_orbit_circ)"
   ]
  },
  {
   "cell_type": "markdown",
   "id": "179c3ca1",
   "metadata": {},
   "source": [
    "Get $\\langle\\mathsf{I}(\\mathbf{r},\\mathbf{r})\\rangle$:"
   ]
  },
  {
   "cell_type": "code",
   "execution_count": 14,
   "id": "a1d205c1",
   "metadata": {},
   "outputs": [],
   "source": [
    "exprn = r_vec_ref_frame_circular.dot(\n",
    "    (ref_frame_intertia_tensor * r_vec_ref_frame_circular)\n",
    ")\n",
    "exprn = exprn.expand()"
   ]
  },
  {
   "cell_type": "code",
   "execution_count": 15,
   "id": "bc597b2c",
   "metadata": {},
   "outputs": [],
   "source": [
    "exprn = exprn.func(*[sp.expand(TR8(a)) for a in exprn.args])"
   ]
  },
  {
   "cell_type": "code",
   "execution_count": 16,
   "id": "c5afdaa0",
   "metadata": {},
   "outputs": [],
   "source": [
    "is_slow = lambda exprn : (E not in exprn.free_symbols) and (l not in exprn.free_symbols)"
   ]
  },
  {
   "cell_type": "code",
   "execution_count": 17,
   "id": "0a916f90",
   "metadata": {},
   "outputs": [],
   "source": [
    "exprn_orbav = exprn.func(*[a for a in exprn.args if is_slow(a)])"
   ]
  },
  {
   "cell_type": "code",
   "execution_count": 18,
   "id": "d5c18487",
   "metadata": {},
   "outputs": [],
   "source": [
    "exprn_orbav=sp.simplify(exprn_orbav)"
   ]
  },
  {
   "cell_type": "code",
   "execution_count": 19,
   "id": "5dcafa1c",
   "metadata": {},
   "outputs": [
    {
     "data": {
      "text/latex": [
       "$\\displaystyle \\frac{C a^{2} \\left(- S^{2} \\delta^{2} \\vartheta^{2} \\cos{\\left(2 \\Omega - 2 h \\right)} - S^{2} \\delta^{2} \\vartheta^{2} + S^{2} \\delta^{2} \\cos{\\left(2 \\Omega - 2 h \\right)} - S^{2} \\delta^{2} + S^{2} \\epsilon \\vartheta^{2} \\cos{\\left(2 \\Omega - 2 h \\right)} + S^{2} \\epsilon \\vartheta^{2} - S^{2} \\epsilon \\cos{\\left(2 \\Omega - 2 h \\right)} - 3 S^{2} \\epsilon + 4 S^{2} + S_{z}^{2} \\delta^{2} \\vartheta^{2} \\cos{\\left(2 \\Omega - 2 h \\right)} + 3 S_{z}^{2} \\delta^{2} \\vartheta^{2} - S_{z}^{2} \\delta^{2} \\cos{\\left(2 \\Omega - 2 h \\right)} - S_{z}^{2} \\delta^{2} - S_{z}^{2} \\epsilon \\vartheta^{2} \\cos{\\left(2 \\Omega - 2 h \\right)} - 3 S_{z}^{2} \\epsilon \\vartheta^{2} + S_{z}^{2} \\epsilon \\cos{\\left(2 \\Omega - 2 h \\right)} + S_{z}^{2} \\epsilon + 4 S_{z} \\delta^{2} \\vartheta \\sqrt{1 - \\vartheta^{2}} \\sqrt{S^{2} - S_{z}^{2}} \\cos{\\left(\\Omega - h \\right)} - 4 S_{z} \\epsilon \\vartheta \\sqrt{1 - \\vartheta^{2}} \\sqrt{S^{2} - S_{z}^{2}} \\cos{\\left(\\Omega - h \\right)}\\right)}{4 S^{2} \\left(\\delta^{2} \\epsilon - \\delta^{2} - \\epsilon + 1\\right)}$"
      ],
      "text/plain": [
       "     ⎛                                                                                                                                         \n",
       "   2 ⎜   2  2         2                   2  2         2    2  2                   2  2    2           2                   2           2    2  \n",
       "C⋅a ⋅⎝- S ⋅δ ⋅vartheta ⋅cos(2⋅Ω - 2⋅h) - S ⋅δ ⋅vartheta  + S ⋅δ ⋅cos(2⋅Ω - 2⋅h) - S ⋅δ  + S ⋅ε⋅vartheta ⋅cos(2⋅Ω - 2⋅h) + S ⋅ε⋅vartheta  - S ⋅ε\n",
       "───────────────────────────────────────────────────────────────────────────────────────────────────────────────────────────────────────────────\n",
       "                                                                                                                                               \n",
       "                                                                                                                                               \n",
       "\n",
       "                                                                                                                                               \n",
       "                     2        2      2  2         2                       2  2         2      2  2                     2  2      2           2 \n",
       "⋅cos(2⋅Ω - 2⋅h) - 3⋅S ⋅ε + 4⋅S  + S_z ⋅δ ⋅vartheta ⋅cos(2⋅Ω - 2⋅h) + 3⋅S_z ⋅δ ⋅vartheta  - S_z ⋅δ ⋅cos(2⋅Ω - 2⋅h) - S_z ⋅δ  - S_z ⋅ε⋅vartheta ⋅\n",
       "───────────────────────────────────────────────────────────────────────────────────────────────────────────────────────────────────────────────\n",
       "                                                                                          2 ⎛ 2      2        ⎞                                \n",
       "                                                                                       4⋅S ⋅⎝δ ⋅ε - δ  - ε + 1⎠                                \n",
       "\n",
       "                                                                                            _______________    ___________                     \n",
       "                      2           2      2                       2            2            ╱             2    ╱  2      2                      \n",
       "cos(2⋅Ω - 2⋅h) - 3⋅S_z ⋅ε⋅vartheta  + S_z ⋅ε⋅cos(2⋅Ω - 2⋅h) + S_z ⋅ε + 4⋅S_z⋅δ ⋅vartheta⋅╲╱  1 - vartheta  ⋅╲╱  S  - S_z  ⋅cos(Ω - h) - 4⋅S_z⋅ε\n",
       "───────────────────────────────────────────────────────────────────────────────────────────────────────────────────────────────────────────────\n",
       "                                                                                                                                               \n",
       "                                                                                                                                               \n",
       "\n",
       "             _______________    ___________           ⎞\n",
       "            ╱             2    ╱  2      2            ⎟\n",
       "⋅vartheta⋅╲╱  1 - vartheta  ⋅╲╱  S  - S_z  ⋅cos(Ω - h)⎠\n",
       "───────────────────────────────────────────────────────\n",
       "                                                       \n",
       "                                                       "
      ]
     },
     "execution_count": 19,
     "metadata": {},
     "output_type": "execute_result"
    }
   ],
   "source": [
    "exprn_orbav"
   ]
  }
 ],
 "metadata": {
  "kernelspec": {
   "display_name": "Python 3 (ipykernel)",
   "language": "python",
   "name": "python3"
  },
  "language_info": {
   "codemirror_mode": {
    "name": "ipython",
    "version": 3
   },
   "file_extension": ".py",
   "mimetype": "text/x-python",
   "name": "python",
   "nbconvert_exporter": "python",
   "pygments_lexer": "ipython3",
   "version": "3.9.7"
  }
 },
 "nbformat": 4,
 "nbformat_minor": 5
}
