{
 "cells": [
  {
   "cell_type": "code",
   "execution_count": 1,
   "id": "cdd6ff9a",
   "metadata": {},
   "outputs": [],
   "source": [
    "import sympy as sp\n",
    "import matplotlib.pyplot as plt\n",
    "import celmech as cm\n",
    "import numpy as np"
   ]
  },
  {
   "cell_type": "markdown",
   "id": "28ea13a7",
   "metadata": {},
   "source": [
    "# Andoyer Hamiltonian"
   ]
  },
  {
   "cell_type": "code",
   "execution_count": 2,
   "id": "5284e343",
   "metadata": {},
   "outputs": [],
   "source": [
    "delta,epsilon,C = sp.symbols(\"delta,epsilon,C\")\n",
    "A = C/(1+delta)\n",
    "B = C/(1-delta)\n",
    "C1 = C/(1-epsilon)\n",
    "body_frame_intertia_tensor = sp.diag(A,B,C1)\n",
    "\n",
    "# Andoyer variables\n",
    "SZ,S,Lmbda = sp.symbols(\"S_z,S,Lambda\")\n",
    "h,g,l = sp.symbols(\"h,g,l\")\n",
    "\n",
    "from sympy import sin,cos,acos\n",
    "\n",
    "# Hamiltonian of torque-free rigid body in Andoyer variables\n",
    "Hfree = Lmbda * Lmbda / (2 * C1) \n",
    "Hfree += (sin(l)**2/A + cos(l)**2/B)/2 * (S*S - Lmbda*Lmbda)\n",
    "\n",
    "# some functions for performing specific simplifications of trig functions\n",
    "from sympy.simplify.fu import TR8,TR10,TR10i,TR11\n",
    "Hfree = sp.simplify(TR8(Hfree))"
   ]
  },
  {
   "cell_type": "code",
   "execution_count": 3,
   "id": "e5b68be4",
   "metadata": {},
   "outputs": [
    {
     "data": {
      "text/latex": [
       "$\\displaystyle \\frac{\\Lambda^{2} \\delta \\cos{\\left(2 l \\right)} - \\Lambda^{2} \\epsilon - S^{2} \\delta \\cos{\\left(2 l \\right)} + S^{2}}{2 C}$"
      ],
      "text/plain": [
       " 2               2      2               2\n",
       "Λ ⋅δ⋅cos(2⋅l) - Λ ⋅ε - S ⋅δ⋅cos(2⋅l) + S \n",
       "─────────────────────────────────────────\n",
       "                   2⋅C                   "
      ]
     },
     "execution_count": 3,
     "metadata": {},
     "output_type": "execute_result"
    }
   ],
   "source": [
    "# Symbolic expression for the Hamiltonian in Andoyer variables\n",
    "Hfree"
   ]
  },
  {
   "cell_type": "code",
   "execution_count": 4,
   "id": "6467bab9",
   "metadata": {},
   "outputs": [],
   "source": [
    "# initial state of system\n",
    "h0 = 0\n",
    "g0,l0 = np.random.uniform(-np.pi,np.pi,2)\n",
    "S0 =  1.\n",
    "Sz0 = np.cos(np.pi/3) * S0\n",
    "Lmbda0 = 0.5 * S0\n",
    "state = cm.PhaseSpaceState([h,g,l,SZ,S,Lmbda],[h0,g0,l0,Sz0,S0,Lmbda0])\n",
    "ham = cm.Hamiltonian(Hfree,{epsilon:0.1,delta:0.03,C:1},state)"
   ]
  },
  {
   "cell_type": "code",
   "execution_count": 5,
   "id": "3c8bffc9",
   "metadata": {},
   "outputs": [],
   "source": [
    "Nout = 512\n",
    "times = np.linspace(0,100,Nout)\n",
    "result = np.zeros((Nout,ham.N_dim))\n",
    "for i,t in enumerate(times):\n",
    "    ham.integrate(t)\n",
    "    result[i] = ham.state.values"
   ]
  },
  {
   "cell_type": "code",
   "execution_count": 6,
   "id": "74f2f68f",
   "metadata": {},
   "outputs": [
    {
     "data": {
      "text/plain": [
       "Text(0, 0.5, '$\\\\Lambda$')"
      ]
     },
     "execution_count": 6,
     "metadata": {},
     "output_type": "execute_result"
    },
    {
     "data": {
      "image/png": "[encoded data removed]",
      "text/plain": [
       "<Figure size 432x288 with 1 Axes>"
      ]
     },
     "metadata": {
      "needs_background": "light"
     },
     "output_type": "display_data"
    }
   ],
   "source": [
    "plt.plot(times,result[:,5])\n",
    "plt.xlabel(\"Time\",fontsize=16)\n",
    "plt.ylabel(\"${}$\".format(sp.latex(ham.qp_vars[-1])),fontsize=16)"
   ]
  },
  {
   "cell_type": "markdown",
   "id": "7b1e9c5c",
   "metadata": {},
   "source": [
    "# Andoyer + Keplerian Hamiltonian\n",
    "Note that I've made no attempt make physically plausible values for moment of inertia and angular momentum values appearing in the Andoyer Hamiltonian. This will presumably require considering the units used by the rebound simulation (which are inherited by the `PoincareHamiltonian`)."
   ]
  },
  {
   "cell_type": "code",
   "execution_count": 7,
   "id": "f52818d5",
   "metadata": {},
   "outputs": [],
   "source": [
    "import rebound as rb\n",
    "sim= rb.Simulation()\n",
    "sim.add(m=1)\n",
    "sim.add(m=3e-5,a=1,e=0.1)\n",
    "sim.move_to_com()\n",
    "pvars = cm.Poincare.from_Simulation(sim)\n",
    "pham = cm.PoincareHamiltonian(pvars)"
   ]
  },
  {
   "cell_type": "code",
   "execution_count": 8,
   "id": "e7413a03",
   "metadata": {},
   "outputs": [
    {
     "ename": "AttributeError",
     "evalue": "'Symbol' object has no attribute 'values'",
     "output_type": "error",
     "traceback": [
      "\u001b[0;31m---------------------------------------------------------------------------\u001b[0m",
      "\u001b[0;31mAttributeError\u001b[0m                            Traceback (most recent call last)",
      "\u001b[0;32m/var/folders/0y/0wb96bc544s1wvz3qvx484qh0000gn/T/ipykernel_17944/2447346997.py\u001b[0m in \u001b[0;36m<module>\u001b[0;34m\u001b[0m\n\u001b[0;32m----> 1\u001b[0;31m \u001b[0mh\u001b[0m\u001b[0;34m.\u001b[0m\u001b[0mvalues\u001b[0m\u001b[0;34m[\u001b[0m\u001b[0;34m:\u001b[0m\u001b[0mh\u001b[0m\u001b[0;34m.\u001b[0m\u001b[0mN_dof\u001b[0m\u001b[0;34m]\u001b[0m\u001b[0;34m\u001b[0m\u001b[0;34m\u001b[0m\u001b[0m\n\u001b[0m",
      "\u001b[0;31mAttributeError\u001b[0m: 'Symbol' object has no attribute 'values'"
     ]
    }
   ],
   "source": [
    "h.values[:h.N_dof]"
   ]
  },
  {
   "cell_type": "code",
   "execution_count": null,
   "id": "f09910f4",
   "metadata": {},
   "outputs": [],
   "source": [
    "Htot = pham.H + Hfree\n",
    "qp_all=[]\n",
    "vals_all = []\n",
    "for h in [pham,ham]:\n",
    "    qp_all += [q for q,p in h.qp_pairs]\n",
    "    vals_all += h.values[:h.N_dof]\n",
    "for h in [pham,ham]:\n",
    "    qp_all += [p for q,p in h.qp_pairs]\n",
    "    vals_all += h.values[h.N_dof:]"
   ]
  },
  {
   "cell_type": "code",
   "execution_count": null,
   "id": "f2f725f4",
   "metadata": {},
   "outputs": [],
   "source": [
    "pars_tot = dict()\n",
    "pars_tot.update(ham.H_params)\n",
    "pars_tot.update(pham.H_params)"
   ]
  },
  {
   "cell_type": "code",
   "execution_count": null,
   "id": "28d6f657",
   "metadata": {},
   "outputs": [],
   "source": [
    "state_tot = cm.PhaseSpaceState(qp_all,vals_all)\n",
    "ham_tot = cm.Hamiltonian(Htot,pars_tot,state_tot)"
   ]
  },
  {
   "cell_type": "code",
   "execution_count": null,
   "id": "2df5f3ba",
   "metadata": {},
   "outputs": [],
   "source": [
    "ham_tot.H"
   ]
  },
  {
   "cell_type": "code",
   "execution_count": null,
   "id": "973853b2",
   "metadata": {
    "scrolled": true
   },
   "outputs": [],
   "source": [
    "ham_tot.N_H"
   ]
  },
  {
   "cell_type": "markdown",
   "id": "4f5cc63c",
   "metadata": {},
   "source": [
    "# Andoyer + Keplerian Hamiltonian + spin-orbit coupling\n",
    "Add new terms..."
   ]
  },
  {
   "cell_type": "markdown",
   "id": "3e6afb43",
   "metadata": {},
   "source": [
    "# Modified Andoyer variables"
   ]
  },
  {
   "cell_type": "code",
   "execution_count": null,
   "id": "aad18078",
   "metadata": {},
   "outputs": [],
   "source": [
    "delta,epsilon,C = sp.symbols(\"delta,epsilon,C\")\n",
    "A = C/(1+delta)\n",
    "B = C/(1-delta)\n",
    "C1 = C/(1-epsilon)\n",
    "body_frame_intertia_tensor = sp.diag(A,B,C1)\n",
    "\n",
    "# Andoyer variables\n",
    "SZ,S,Lmbda = sp.symbols(\"S_z,S,Lambda\")\n",
    "h,g,l = sp.symbols(\"h,g,l\")\n",
    "\n",
    "from sympy import sin,cos,acos\n",
    "\n",
    "# Hamiltonian of torque-free rigid body in Andoyer variables\n",
    "Hfree = Lmbda * Lmbda / (2 * C1) \n",
    "Hfree += (sin(l)**2/A + cos(l)**2/B)/2 * (S*S - Lmbda*Lmbda)\n",
    "\n",
    "# some functions for performing specific simplifications of trig functions\n",
    "from sympy.simplify.fu import TR8,TR10,TR10i,TR11\n",
    "Hfree = sp.simplify(TR8(Hfree))"
   ]
  },
  {
   "cell_type": "code",
   "execution_count": null,
   "id": "2d404919",
   "metadata": {},
   "outputs": [],
   "source": [
    "# Symbolic expression for the Hamiltonian in Andoyer variables\n",
    "Hfree"
   ]
  },
  {
   "cell_type": "code",
   "execution_count": null,
   "id": "e294e37e",
   "metadata": {},
   "outputs": [],
   "source": [
    "# initial state of system\n",
    "h0 = 0\n",
    "g0,l0 = np.random.uniform(-np.pi,np.pi,2)\n",
    "S0 =  1.\n",
    "Sz0 = np.cos(np.pi/3) * S0\n",
    "Lmbda0 = 0.5 * S0\n",
    "state = cm.PhaseSpaceState([h,g,l,SZ,S,Lmbda],[h0,g0,l0,Sz0,S0,Lmbda0])\n",
    "ham = cm.Hamiltonian(Hfree,{epsilon:0.1,delta:0.03,C:1},state)"
   ]
  },
  {
   "cell_type": "code",
   "execution_count": null,
   "id": "5695d6a7",
   "metadata": {},
   "outputs": [],
   "source": [
    "ham.qp_vars"
   ]
  },
  {
   "cell_type": "code",
   "execution_count": null,
   "id": "eb442710",
   "metadata": {},
   "outputs": [],
   "source": [
    "T = np.eye(3,dtype=int)\n",
    "T[0] = [1,1,1]\n",
    "T[1] = [1,1,0]\n",
    "T[2] = [-1,0,0]\n",
    "ct = cm.CanonicalTransformation.from_linear_angle_transformation(ham.qp_vars,T)\n",
    "ham1 = ct.old_to_new_hamiltonian(ham)\n",
    "ct_p2c = cm.CanonicalTransformation.polar_to_cartesian(ct.new_qp_vars,[1,2])\n",
    "ham1xy = ct_p2c.old_to_new_hamiltonian(ham1)\n"
   ]
  },
  {
   "cell_type": "code",
   "execution_count": null,
   "id": "23388c92",
   "metadata": {},
   "outputs": [],
   "source": [
    "[ct.new_to_old(p) for p in ham1.qp_vars[3:]]"
   ]
  },
  {
   "cell_type": "code",
   "execution_count": null,
   "id": "db52d3d9",
   "metadata": {},
   "outputs": [],
   "source": [
    "sp.factor_terms(ham1.H)"
   ]
  },
  {
   "cell_type": "code",
   "execution_count": null,
   "id": "c552d8de",
   "metadata": {},
   "outputs": [],
   "source": [
    "Nout = 512\n",
    "times = np.linspace(0,100,Nout)\n",
    "result = np.zeros((Nout,ham.N_dim))\n",
    "for i,t in enumerate(times):\n",
    "    ham.integrate(t)\n",
    "    result[i] = ham.state.values"
   ]
  },
  {
   "cell_type": "code",
   "execution_count": null,
   "id": "10089d9a",
   "metadata": {},
   "outputs": [],
   "source": [
    "plt.plot(times,result[:,5])\n",
    "plt.xlabel(\"Time\",fontsize=16)\n",
    "plt.ylabel(\"${}$\".format(sp.latex(ham.qp_vars[-1])),fontsize=16)"
   ]
  }
 ],
 "metadata": {
  "kernelspec": {
   "display_name": "Python 3 (ipykernel)",
   "language": "python",
   "name": "python3"
  },
  "language_info": {
   "codemirror_mode": {
    "name": "ipython",
    "version": 3
   },
   "file_extension": ".py",
   "mimetype": "text/x-python",
   "name": "python",
   "nbconvert_exporter": "python",
   "pygments_lexer": "ipython3",
   "version": "3.9.7"
  }
 },
 "nbformat": 4,
 "nbformat_minor": 5
}
